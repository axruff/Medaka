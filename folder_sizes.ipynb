{
 "cells": [
  {
   "cell_type": "code",
   "execution_count": 38,
   "metadata": {},
   "outputs": [],
   "source": [
    "import os\n",
    "from os import listdir\n",
    "from os.path import isfile, join\n",
    "from pathlib import Path\n",
    "\n",
    "import subprocess\n",
    "\n",
    "import pandas as pd"
   ]
  },
  {
   "cell_type": "code",
   "execution_count": 39,
   "metadata": {},
   "outputs": [],
   "source": [
    "def get_size(start_path = '.'):\n",
    "    total_size = 0\n",
    "    for dirpath, dirnames, filenames in os.walk(start_path):\n",
    "        for f in filenames:\n",
    "            fp = os.path.join(dirpath, f)\n",
    "            # skip if it is symbolic link\n",
    "            if not os.path.islink(fp):\n",
    "                total_size += os.path.getsize(fp)\n",
    "\n",
    "    return total_size / 1024**3\n",
    "\n",
    "data_path = Path('z:\\\\tomo\\\\')\n",
    "\n",
    "data_list = ['2014-11-esrf-xenopus',\n",
    "'2015-04-esrf-phasevariator',\n",
    "'2015-06-esrf-xenopus',\n",
    "'2016-02-xenbase',\n",
    "'APS\\\\2013-12_Xenopus',\n",
    "'APS_2BM_LifeCellImaging_GUP28266',\n",
    "'APS_32ID-C_2014-07-16_GUP38469',\n",
    "'APS_32ID-C_InVivoImaging_GUP34879_2013-07-30',\n",
    "'APS_32ID-C_LifeCellImaging_GUP31523_2012-10-13',\n",
    " 'ESRF_ID19_2014-07-28_InHouse',\n",
    " 'ESRF_MA1135_ID19_FebMarch2011',\n",
    " 'ESRF_May2011_Xenopus',\n",
    " 'ESRF_MI1079_ID19_July2011_inlineTomo',\n",
    " 'Kashefhofmann',\n",
    " 'Rshkarin\\\\Xenopus22stage',\n",
    " 'Rshkarin\\\\Xenopus_stages_to_reg',\n",
    " 'Rshkarin\\\\Xenopus-cropped-esrf-2014-stage23-04h12',\n",
    " 'TopoTomo_100927-SingleDistancePhaseRetrieval'\n",
    "]\n",
    "\n",
    "test = ['ershov\\\\livecells\\\\',\n",
    "        'ershov\\\\neural_cells\\\\'\n",
    "]"
   ]
  },
  {
   "cell_type": "code",
   "execution_count": null,
   "metadata": {},
   "outputs": [],
   "source": [
    "folder_stat = []\n",
    "\n",
    "for d in data_list:\n",
    "    \n",
    "    if os.path.exists(data_path / d):\n",
    "        s = get_size(str(data_path / d))\n",
    "        folder_stat.append([data_path / d, s])\n",
    "\n",
    "        print(data_path / d, ': ', f'{s:.2f} Gb')\n"
   ]
  },
  {
   "cell_type": "code",
   "execution_count": 36,
   "metadata": {},
   "outputs": [],
   "source": [
    "df = pd.DataFrame(folder_stat, columns = ['folder', 'Size']) \n"
   ]
  },
  {
   "cell_type": "code",
   "execution_count": 37,
   "metadata": {},
   "outputs": [
    {
     "data": {
      "text/html": [
       "<div>\n",
       "<style scoped>\n",
       "    .dataframe tbody tr th:only-of-type {\n",
       "        vertical-align: middle;\n",
       "    }\n",
       "\n",
       "    .dataframe tbody tr th {\n",
       "        vertical-align: top;\n",
       "    }\n",
       "\n",
       "    .dataframe thead th {\n",
       "        text-align: right;\n",
       "    }\n",
       "</style>\n",
       "<table border=\"1\" class=\"dataframe\">\n",
       "  <thead>\n",
       "    <tr style=\"text-align: right;\">\n",
       "      <th></th>\n",
       "      <th>folder</th>\n",
       "      <th>Size</th>\n",
       "    </tr>\n",
       "  </thead>\n",
       "  <tbody>\n",
       "    <tr>\n",
       "      <th>0</th>\n",
       "      <td>z:\\tomo\\ershov\\livecells</td>\n",
       "      <td>85.452458</td>\n",
       "    </tr>\n",
       "    <tr>\n",
       "      <th>1</th>\n",
       "      <td>z:\\tomo\\ershov\\neural_cells</td>\n",
       "      <td>14.658424</td>\n",
       "    </tr>\n",
       "  </tbody>\n",
       "</table>\n",
       "</div>"
      ],
      "text/plain": [
       "                        folder       Size\n",
       "0     z:\\tomo\\ershov\\livecells  85.452458\n",
       "1  z:\\tomo\\ershov\\neural_cells  14.658424"
      ]
     },
     "execution_count": 37,
     "metadata": {},
     "output_type": "execute_result"
    }
   ],
   "source": [
    "df"
   ]
  },
  {
   "cell_type": "code",
   "execution_count": null,
   "metadata": {},
   "outputs": [],
   "source": []
  }
 ],
 "metadata": {
  "kernelspec": {
   "display_name": "Python 3",
   "language": "python",
   "name": "python3"
  },
  "language_info": {
   "codemirror_mode": {
    "name": "ipython",
    "version": 3
   },
   "file_extension": ".py",
   "mimetype": "text/x-python",
   "name": "python",
   "nbconvert_exporter": "python",
   "pygments_lexer": "ipython3",
   "version": "3.7.3"
  }
 },
 "nbformat": 4,
 "nbformat_minor": 2
}
