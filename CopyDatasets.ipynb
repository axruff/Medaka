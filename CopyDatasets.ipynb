{
 "cells": [
  {
   "cell_type": "code",
   "execution_count": 2,
   "id": "438b2848-f41a-492d-9c21-d86b6238dd8b",
   "metadata": {},
   "outputs": [
    {
     "name": "stderr",
     "output_type": "stream",
     "text": [
      "C:\\Users\\fe0968\\anaconda3\\lib\\site-packages\\paramiko\\transport.py:219: CryptographyDeprecationWarning: Blowfish has been deprecated\n",
      "  \"class\": algorithms.Blowfish,\n"
     ]
    }
   ],
   "source": [
    "import paramiko\n",
    "import os\n",
    "\n",
    "from pathlib import Path"
   ]
  },
  {
   "cell_type": "code",
   "execution_count": 8,
   "id": "ae695dce-e14c-4716-80f6-44dec7f477d1",
   "metadata": {},
   "outputs": [],
   "source": [
    "def sftp_get_file(remote_host, port, username, password, remote_file_path, local_file_path):\n",
    "    # Create an SSH client\n",
    "    ssh = paramiko.SSHClient()\n",
    "    ssh.set_missing_host_key_policy(paramiko.AutoAddPolicy())\n",
    "    \n",
    "    try:\n",
    "        # Connect to the remote server\n",
    "        ssh.connect(remote_host, port, username, password)\n",
    "        \n",
    "        # Create an SFTP client from the SSH connection\n",
    "        sftp = ssh.open_sftp()\n",
    "        \n",
    "        # Download the file\n",
    "        sftp.get(remote_file_path, local_file_path)\n",
    "        print(f\"File successfully copied to {local_file_path}\")\n",
    "        \n",
    "        # Close the SFTP connection\n",
    "        sftp.close()\n",
    "    \n",
    "    except Exception as e:\n",
    "        print(f\"An error occurred: {e}\")\n",
    "    \n",
    "    finally:\n",
    "        # Close the SSH connection\n",
    "        ssh.close()\n",
    "\n",
    "# Define your connection parameters\n",
    "remote_host = 'ips-stroboscode-02'\n",
    "port = 22  # Default SSH port\n",
    "username = 'fe0968'\n",
    "password = 'Kit48780()'\n",
    "\n",
    "\n",
    "# Ensure the local directory exists\n",
    "local_dir = os.path.dirname(local_file_path)\n",
    "if not os.path.exists(local_dir):\n",
    "    print('Hi')\n",
    "    os.makedirs(local_dir)\n",
    "    \n",
    "def get_dataset_path(ind):\n",
    "    \n",
    "    server_path = ''\n",
    "    data_path = ''\n",
    "    \n",
    "    if ind in [int(x.split('_')[1]) for x in datasets_201811]:\n",
    "        data_path = \"2018_11\"\n",
    "        server_path = \"/mnt/LSDF/projects/code-vita/Medaka/\"\n",
    "        return server_path + data_path\n",
    "        \n",
    "    if ind in [int(x.split('_')[1]) for x in datasets_201905]:\n",
    "        data_path = \"201905_beamtime_medaka_stained\"\n",
    "        server_path = \"/mnt/HD-LSDF/Medaka/\" \n",
    "        return server_path + data_path\n",
    "        \n",
    "    if ind in [int(x.split('_')[1]) for x in datasets_201912]:\n",
    "        data_path = \"201912_beamtime_medaka\"\n",
    "        server_path = \"/mnt/HD-LSDF/Medaka/\"\n",
    "        return server_path + data_path\n",
    "        \n",
    "    if ind in [int(x.split('_')[1]) for x in datasets_202012]:\n",
    "        data_path = \"202012_beamtime_medaka\"\n",
    "        server_path = \"/mnt/HD-LSDF/Medaka/\"\n",
    "        return server_path + data_path\n",
    "        \n",
    "    return 'None'\n",
    "\n",
    "def get_dataset_full_name(ind):\n",
    "    \n",
    "    if ind in [int(x.split('_')[1]) for x in datasets_201811]:\n",
    "        return datasets_201811[[int(x.split('_')[1]) for x in datasets_201811].index(ind)].strip()\n",
    "        \n",
    "    if ind in [int(x.split('_')[1]) for x in datasets_201905]:\n",
    "        return datasets_201905[[int(x.split('_')[1]) for x in datasets_201905].index(ind)].strip() \n",
    "        \n",
    "    if ind in [int(x.split('_')[1]) for x in datasets_201912]:\n",
    "        return datasets_201912[[int(x.split('_')[1]) for x in datasets_201912].index(ind)].strip() \n",
    "        \n",
    "    if ind in [int(x.split('_')[1]) for x in datasets_202012]:\n",
    "        return datasets_202012[[int(x.split('_')[1]) for x in datasets_202012].index(ind)].strip() "
   ]
  },
  {
   "cell_type": "code",
   "execution_count": null,
   "id": "d1f45eba-f066-4137-9345-afa8e0993ab1",
   "metadata": {},
   "outputs": [],
   "source": [
    "remote_file_path = 'test/1.txt'\n",
    "local_file_path = 'c:\\\\Users\\\\fe0968\\\\Documents\\\\data\\\\medaka\\\\training\\\\1.txt'\n"
   ]
  },
  {
   "cell_type": "code",
   "execution_count": 8,
   "id": "0b6be8cc-eeb0-4c84-ad9f-20d9bc79b18d",
   "metadata": {},
   "outputs": [
    {
     "name": "stdout",
     "output_type": "stream",
     "text": [
      "File successfully copied to c:\\Users\\fe0968\\Documents\\data\\medaka\\training\\1.txt\n"
     ]
    }
   ],
   "source": [
    "# Copy the file\n",
    "sftp_get_file(remote_host, port, username, password, remote_file_path, local_file_path)"
   ]
  },
  {
   "cell_type": "code",
   "execution_count": 4,
   "id": "9767de2c-ed74-4f27-9836-953e4873e043",
   "metadata": {},
   "outputs": [],
   "source": [
    "path_datasets_list = Path(\"z:\\\\tomo\\\\ershov\\\\medaka\\\\workshop_landmarks\\\\\")\n",
    "\n",
    "\n",
    "#f = open(path_datasets_list / 'datasets_201905.txt', 'r')\n",
    "#datasets_201905 = f.readlines()\n",
    "#f.close()\n",
    "\n",
    "#f = open(path_datasets_list / 'datasets_201912.txt', 'r')\n",
    "#datasets_201912 = f.readlines()\n",
    "#f.close()\n",
    "\n",
    "#f = open(path_datasets_list / 'datasets_202012.txt', 'r')\n",
    "#datasets_202012 = f.readlines()\n",
    "#f.close()\n",
    "\n",
    "f = open('datasets_201811.txt', 'r')\n",
    "datasets_201811 = f.readlines()\n",
    "f.close()"
   ]
  },
  {
   "cell_type": "code",
   "execution_count": 14,
   "id": "d0faa0fc-976c-4855-b56a-53127aaede11",
   "metadata": {},
   "outputs": [
    {
     "name": "stdout",
     "output_type": "stream",
     "text": [
      "/mnt/LSDF/projects/code-vita/Medaka/2018_11\n"
     ]
    }
   ],
   "source": [
    "i = 446\n",
    "dataset = get_dataset_full_name(i)\n",
    "print(get_dataset_path(i))"
   ]
  },
  {
   "cell_type": "code",
   "execution_count": 15,
   "id": "32177334-bff7-4481-87ce-dec29cebee54",
   "metadata": {},
   "outputs": [],
   "source": [
    "label_file_path = f'/mnt/LSDF/projects/code-vita/Medaka/2018_11/{dataset}/brain_scaled_0.5_8bit_slices.tif'\n",
    "vol_file_path = f'/mnt/LSDF/projects/code-vita/Medaka/2018_11/{dataset}/scaled_0.5_8bit_slices.tif'\n",
    "\n",
    "local_label_file_path = f'c:\\\\Users\\\\fe0968\\\\Documents\\\\data\\\\medaka\\\\training\\\\{i}_brain.tif'\n",
    "local_vol_file_path = f'c:\\\\Users\\\\fe0968\\\\Documents\\\\data\\\\medaka\\\\training\\\\{i}_vol.tif'"
   ]
  },
  {
   "cell_type": "code",
   "execution_count": 12,
   "id": "935ec5f7-b54a-4648-91e0-a0672a12c9ba",
   "metadata": {},
   "outputs": [
    {
     "name": "stdout",
     "output_type": "stream",
     "text": [
      "File successfully copied to c:\\Users\\fe0968\\Documents\\data\\medaka\\training\\446_brain.tif\n"
     ]
    }
   ],
   "source": [
    "sftp_get_file(remote_host, port, username, password, label_file_path, local_label_file_path)"
   ]
  },
  {
   "cell_type": "code",
   "execution_count": 16,
   "id": "70743837-5f8c-40c9-bb73-59ad020f4495",
   "metadata": {},
   "outputs": [
    {
     "name": "stdout",
     "output_type": "stream",
     "text": [
      "File successfully copied to c:\\Users\\fe0968\\Documents\\data\\medaka\\training\\446_vol.tif\n"
     ]
    }
   ],
   "source": [
    "sftp_get_file(remote_host, port, username, password, vol_file_path, local_vol_file_path)"
   ]
  },
  {
   "cell_type": "code",
   "execution_count": null,
   "id": "ef37f157-7013-4845-9a43-ceb2397485bf",
   "metadata": {},
   "outputs": [],
   "source": []
  }
 ],
 "metadata": {
  "kernelspec": {
   "display_name": "Python 3 (ipykernel)",
   "language": "python",
   "name": "python3"
  },
  "language_info": {
   "codemirror_mode": {
    "name": "ipython",
    "version": 3
   },
   "file_extension": ".py",
   "mimetype": "text/x-python",
   "name": "python",
   "nbconvert_exporter": "python",
   "pygments_lexer": "ipython3",
   "version": "3.7.3"
  }
 },
 "nbformat": 4,
 "nbformat_minor": 5
}
