{
 "cells": [
  {
   "cell_type": "code",
   "execution_count": 17,
   "id": "438b2848-f41a-492d-9c21-d86b6238dd8b",
   "metadata": {},
   "outputs": [],
   "source": [
    "import paramiko\n",
    "import os\n",
    "\n",
    "from pathlib import Path\n",
    "\n",
    "from IPython.core.magic import register_cell_magic\n",
    "import time"
   ]
  },
  {
   "cell_type": "code",
   "execution_count": 18,
   "id": "9b4627b4",
   "metadata": {},
   "outputs": [],
   "source": [
    "@register_cell_magic\n",
    "def time_cell(line, cell):\n",
    "    \"\"\"\n",
    "    A cell magic to measure the execution time of a cell.\n",
    "    Usage:\n",
    "        %%time_cell\n",
    "        <your code>\n",
    "    \"\"\"\n",
    "    start_time = time.time()\n",
    "    exec(cell, globals())\n",
    "    end_time = time.time()\n",
    "    elapsed_time = end_time - start_time\n",
    "    print(f\"Execution time: {elapsed_time:.4f} seconds\")\n",
    "\n",
    "# Register the magic function\n",
    "get_ipython().register_magic_function(time_cell, 'cell')"
   ]
  },
  {
   "cell_type": "code",
   "execution_count": 19,
   "id": "ae695dce-e14c-4716-80f6-44dec7f477d1",
   "metadata": {},
   "outputs": [],
   "source": [
    "def sftp_get_file(remote_host, port, username, password, remote_file_path, local_file_path):\n",
    "    # Create an SSH client\n",
    "    ssh = paramiko.SSHClient()\n",
    "    ssh.set_missing_host_key_policy(paramiko.AutoAddPolicy())\n",
    "    \n",
    "    try:\n",
    "        # Connect to the remote server\n",
    "        ssh.connect(remote_host, port, username, password)\n",
    "        \n",
    "        # Create an SFTP client from the SSH connection\n",
    "        sftp = ssh.open_sftp()\n",
    "        \n",
    "        # Download the file\n",
    "        sftp.get(remote_file_path, local_file_path)\n",
    "        print(f\"File successfully copied to {local_file_path}\")\n",
    "        \n",
    "        # Close the SFTP connection\n",
    "        sftp.close()\n",
    "    \n",
    "    except Exception as e:\n",
    "        print(f\"An error occurred: {e}\")\n",
    "    \n",
    "    finally:\n",
    "        # Close the SSH connection\n",
    "        ssh.close()\n",
    "\n",
    "# Define your connection parameters\n",
    "remote_host = 'ips-stroboscode-02'\n",
    "port = 22  # Default SSH port\n",
    "username = 'fe0968'\n",
    "password = 'Kit48780()'\n",
    "\n",
    "\n",
    "# Ensure the local directory exists\n",
    "#local_dir = os.path.dirname(local_file_path)\n",
    "#if not os.path.exists(local_dir):\n",
    "#    print('Hi')\n",
    "#    os.makedirs(local_dir)\n",
    "    \n",
    "def get_dataset_path(ind):\n",
    "    \n",
    "    server_path = ''\n",
    "    data_path = ''\n",
    "    \n",
    "    if ind in [int(x.split('_')[1]) for x in datasets_201811]:\n",
    "        data_path = \"2018_11\"\n",
    "        server_path = \"/mnt/LSDF/projects/code-vita/Medaka/\"\n",
    "        return server_path + data_path\n",
    "        \n",
    "    if ind in [int(x.split('_')[1]) for x in datasets_201905]:\n",
    "        data_path = \"201905_beamtime_medaka_stained\"\n",
    "        server_path = \"/mnt/HD-LSDF/Medaka/\" \n",
    "        return server_path + data_path\n",
    "        \n",
    "    if ind in [int(x.split('_')[1]) for x in datasets_201912]:\n",
    "        data_path = \"201912_beamtime_medaka\"\n",
    "        server_path = \"/mnt/HD-LSDF/Medaka/\"\n",
    "        return server_path + data_path\n",
    "        \n",
    "    if ind in [int(x.split('_')[1]) for x in datasets_202012]:\n",
    "        data_path = \"202012_beamtime_medaka\"\n",
    "        server_path = \"/mnt/HD-LSDF/Medaka/\"\n",
    "        return server_path + data_path\n",
    "        \n",
    "    return 'None'\n",
    "\n",
    "def get_dataset_full_name(ind):\n",
    "    \n",
    "    if ind in [int(x.split('_')[1]) for x in datasets_201811]:\n",
    "        return datasets_201811[[int(x.split('_')[1]) for x in datasets_201811].index(ind)].strip()\n",
    "        \n",
    "    if ind in [int(x.split('_')[1]) for x in datasets_201905]:\n",
    "        return datasets_201905[[int(x.split('_')[1]) for x in datasets_201905].index(ind)].strip() \n",
    "        \n",
    "    if ind in [int(x.split('_')[1]) for x in datasets_201912]:\n",
    "        return datasets_201912[[int(x.split('_')[1]) for x in datasets_201912].index(ind)].strip() \n",
    "        \n",
    "    if ind in [int(x.split('_')[1]) for x in datasets_202012]:\n",
    "        return datasets_202012[[int(x.split('_')[1]) for x in datasets_202012].index(ind)].strip() "
   ]
  },
  {
   "cell_type": "code",
   "execution_count": 20,
   "id": "d1f45eba-f066-4137-9345-afa8e0993ab1",
   "metadata": {},
   "outputs": [],
   "source": [
    "remote_file_path = 'test/1.txt'\n",
    "local_file_path = 'c:\\\\Users\\\\fe0968\\\\Documents\\\\data\\\\medaka\\\\training\\\\1.txt'\n"
   ]
  },
  {
   "cell_type": "code",
   "execution_count": 8,
   "id": "0b6be8cc-eeb0-4c84-ad9f-20d9bc79b18d",
   "metadata": {},
   "outputs": [
    {
     "name": "stdout",
     "output_type": "stream",
     "text": [
      "File successfully copied to c:\\Users\\fe0968\\Documents\\data\\medaka\\training\\1.txt\n"
     ]
    }
   ],
   "source": [
    "# Copy the file\n",
    "sftp_get_file(remote_host, port, username, password, remote_file_path, local_file_path)"
   ]
  },
  {
   "cell_type": "code",
   "execution_count": 28,
   "id": "9767de2c-ed74-4f27-9836-953e4873e043",
   "metadata": {},
   "outputs": [],
   "source": [
    "path_datasets_list = Path(\"z:\\\\tomo\\\\ershov\\\\medaka\\\\workshop_landmarks\\\\\")\n",
    "\n",
    "\n",
    "f = open(path_datasets_list / 'datasets_201905.txt', 'r')\n",
    "datasets_201905 = f.readlines()\n",
    "f.close()\n",
    "\n",
    "f = open(path_datasets_list / 'datasets_201912.txt', 'r')\n",
    "datasets_201912 = f.readlines()\n",
    "f.close()\n",
    "\n",
    "f = open(path_datasets_list / 'datasets_202012.txt', 'r')\n",
    "datasets_202012 = f.readlines()\n",
    "f.close()\n",
    "\n",
    "f = open('datasets_201811.txt', 'r')\n",
    "datasets_201811 = f.readlines()\n",
    "f.close()"
   ]
  },
  {
   "cell_type": "code",
   "execution_count": 30,
   "id": "d0faa0fc-976c-4855-b56a-53127aaede11",
   "metadata": {},
   "outputs": [
    {
     "name": "stdout",
     "output_type": "stream",
     "text": [
      "/mnt/HD-LSDF/Medaka/201912_beamtime_medaka/Medaka_1230_79-2\n"
     ]
    }
   ],
   "source": [
    "i = 1230\n",
    "dataset = get_dataset_full_name(i)\n",
    "print(get_dataset_path(i) + '/' + dataset)"
   ]
  },
  {
   "cell_type": "code",
   "execution_count": 13,
   "id": "32177334-bff7-4481-87ce-dec29cebee54",
   "metadata": {},
   "outputs": [],
   "source": [
    "label_file_path = f'/mnt/LSDF/code-vita/Medaka/2018_11/{dataset}/brain_scaled_0.5_8bit_slices.tif'\n",
    "vol_file_path = f'/mnt/LSDF/code-vita/Medaka/2018_11/{dataset}/scaled_0.5_8bit_slices.tif'\n",
    "\n",
    "local_label_file_path = f'd:\\\\data\\\\medaka\\\\data\\\\segmentations_old\\\\{i}_brain.tif'\n",
    "local_vol_file_path = f'd:\\\\data\\\\medaka\\\\data\\\\segmentations_old\\\\{i}_vol.tif'"
   ]
  },
  {
   "cell_type": "code",
   "execution_count": 31,
   "id": "34860cdf",
   "metadata": {},
   "outputs": [],
   "source": [
    "#dataset_list = [417, 418, 446, 501, 509, 511, 526, 601] # Done\n",
    "#dataset_list = [459, 463, 470, 471, 608, 610] # Done\n",
    "#dataset_list = [619, 626, 629, 641, 652, 721] # Done\n",
    "\n",
    "#dataset_list = [423, 425, 428, 444, 448, 454] # Done\n",
    "dataset_list = [475, 488, 489, 493, 502, 508]\n",
    "\n",
    "Medaka_535_49-1\n",
    "Medaka_537_49-1\n",
    "Medaka_547_49-1\n",
    "Medaka_555_50-2\n",
    "Medaka_561_50-2\n",
    "Medaka_565_50-2\n",
    "Medaka_578_58-2\n",
    "Medaka_582_58-2\n",
    "Medaka_586_58-2\n"
   ]
  },
  {
   "cell_type": "code",
   "execution_count": 32,
   "id": "2f1632aa",
   "metadata": {},
   "outputs": [
    {
     "name": "stdout",
     "output_type": "stream",
     "text": [
      "File successfully copied to d:\\data\\medaka\\segmentations_corrections\\475_brain.tif\n",
      "File successfully copied to d:\\data\\medaka\\segmentations_corrections\\475_vol.tif\n",
      "File successfully copied to d:\\data\\medaka\\segmentations_corrections\\488_brain.tif\n",
      "File successfully copied to d:\\data\\medaka\\segmentations_corrections\\488_vol.tif\n",
      "File successfully copied to d:\\data\\medaka\\segmentations_corrections\\489_brain.tif\n",
      "File successfully copied to d:\\data\\medaka\\segmentations_corrections\\489_vol.tif\n",
      "File successfully copied to d:\\data\\medaka\\segmentations_corrections\\493_brain.tif\n",
      "File successfully copied to d:\\data\\medaka\\segmentations_corrections\\493_vol.tif\n",
      "File successfully copied to d:\\data\\medaka\\segmentations_corrections\\502_brain.tif\n",
      "File successfully copied to d:\\data\\medaka\\segmentations_corrections\\502_vol.tif\n",
      "File successfully copied to d:\\data\\medaka\\segmentations_corrections\\508_brain.tif\n",
      "File successfully copied to d:\\data\\medaka\\segmentations_corrections\\508_vol.tif\n",
      "Finished!\n"
     ]
    }
   ],
   "source": [
    "for i in dataset_list:\n",
    "    dataset = get_dataset_full_name(i)\n",
    "\n",
    "    label_file_path = f'/mnt/LSDF/code-vita/Medaka/2018_11/{dataset}/brain_scaled_0.5_8bit_slices.tif'\n",
    "    vol_file_path = f'/mnt/LSDF/code-vita/Medaka/2018_11/{dataset}/scaled_0.5_8bit_slices.tif'\n",
    "\n",
    "    local_label_file_path = f'd:\\\\data\\\\medaka\\\\segmentations_corrections\\\\{i}_brain.tif'\n",
    "    local_vol_file_path = f'd:\\\\data\\\\medaka\\\\segmentations_corrections\\\\{i}_vol.tif'\n",
    "\n",
    "    sftp_get_file(remote_host, port, username, password, label_file_path, local_label_file_path)\n",
    "    sftp_get_file(remote_host, port, username, password, vol_file_path, local_vol_file_path)\n",
    "    \n",
    "\n",
    "print('Finished!')"
   ]
  },
  {
   "cell_type": "code",
   "execution_count": 14,
   "id": "935ec5f7-b54a-4648-91e0-a0672a12c9ba",
   "metadata": {},
   "outputs": [
    {
     "name": "stdout",
     "output_type": "stream",
     "text": [
      "File successfully copied to d:\\data\\medaka\\data\\segmentations_old\\446_brain.tif\n",
      "File successfully copied to d:\\data\\medaka\\data\\segmentations_old\\446_vol.tif\n",
      "Execution time: 58.7350 seconds\n"
     ]
    }
   ],
   "source": [
    "%%time_cell\n",
    "sftp_get_file(remote_host, port, username, password, label_file_path, local_label_file_path)\n",
    "sftp_get_file(remote_host, port, username, password, vol_file_path, local_vol_file_path)"
   ]
  },
  {
   "cell_type": "code",
   "execution_count": null,
   "id": "bada11cf",
   "metadata": {},
   "outputs": [],
   "source": []
  },
  {
   "cell_type": "markdown",
   "id": "70743837-5f8c-40c9-bb73-59ad020f4495",
   "metadata": {},
   "source": []
  },
  {
   "cell_type": "code",
   "execution_count": null,
   "id": "ef37f157-7013-4845-9a43-ceb2397485bf",
   "metadata": {},
   "outputs": [],
   "source": []
  }
 ],
 "metadata": {
  "kernelspec": {
   "display_name": "Python 3 (ipykernel)",
   "language": "python",
   "name": "python3"
  },
  "language_info": {
   "codemirror_mode": {
    "name": "ipython",
    "version": 3
   },
   "file_extension": ".py",
   "mimetype": "text/x-python",
   "name": "python",
   "nbconvert_exporter": "python",
   "pygments_lexer": "ipython3",
   "version": "3.11.7"
  }
 },
 "nbformat": 4,
 "nbformat_minor": 5
}
